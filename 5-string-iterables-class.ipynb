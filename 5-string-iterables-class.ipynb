{
 "cells": [
  {
   "cell_type": "code",
   "execution_count": 1,
   "id": "ca96b14c-0221-4a5f-ba87-4fad3c9d8ce4",
   "metadata": {},
   "outputs": [
    {
     "name": "stdout",
     "output_type": "stream",
     "text": [
      "hello world\n"
     ]
    }
   ],
   "source": [
    "print(\"hello world\")"
   ]
  },
  {
   "cell_type": "code",
   "execution_count": 7,
   "id": "9807aa4c-427f-4f06-9edb-da710a55a88d",
   "metadata": {},
   "outputs": [],
   "source": [
    "def greeting(name):\n",
    "    return \"Hello {}.Welcome to the community\".format(name) "
   ]
  },
  {
   "cell_type": "code",
   "execution_count": 8,
   "id": "77411277-fcbb-4dc5-b37a-8f91c7a043cb",
   "metadata": {},
   "outputs": [
    {
     "data": {
      "text/plain": [
       "'Hello om.Welcome to the community'"
      ]
     },
     "execution_count": 8,
     "metadata": {},
     "output_type": "execute_result"
    }
   ],
   "source": [
    "greeting(\"om\")"
   ]
  },
  {
   "cell_type": "code",
   "execution_count": 14,
   "id": "56dac53f-bce4-47ca-8c15-0f2857ced523",
   "metadata": {},
   "outputs": [],
   "source": [
    "def welcome_email(name,age):\n",
    "    return \"welcome {name}! your age is{age}\".format(name=name,age=age)"
   ]
  },
  {
   "cell_type": "code",
   "execution_count": 15,
   "id": "1107790b-7c9e-4336-83a5-a5811c74f194",
   "metadata": {},
   "outputs": [
    {
     "data": {
      "text/plain": [
       "'welcome om! your age is20'"
      ]
     },
     "execution_count": 15,
     "metadata": {},
     "output_type": "execute_result"
    }
   ],
   "source": [
    "welcome_email('om',20)"
   ]
  },
  {
   "cell_type": "code",
   "execution_count": 4,
   "id": "72430e03-23f5-4848-901e-c9dbd18d912b",
   "metadata": {},
   "outputs": [],
   "source": [
    "lst=[2,6,3,5,5,6,7,8,9]\n",
    "lst1 =iter(lst)"
   ]
  },
  {
   "cell_type": "code",
   "execution_count": 5,
   "id": "a36bb793-7ab5-43c0-8733-c8cd0b1b5db1",
   "metadata": {},
   "outputs": [
    {
     "name": "stdout",
     "output_type": "stream",
     "text": [
      "2\n",
      "6\n",
      "3\n",
      "5\n",
      "5\n",
      "6\n",
      "7\n",
      "8\n",
      "9\n"
     ]
    }
   ],
   "source": [
    "for i in lst1:\n",
    "    print(i)"
   ]
  },
  {
   "cell_type": "code",
   "execution_count": 1,
   "id": "330bb8bb-d595-4a2e-bdf8-76e85af0f400",
   "metadata": {},
   "outputs": [],
   "source": [
    "class Car:\n",
    "    pass"
   ]
  },
  {
   "cell_type": "code",
   "execution_count": 2,
   "id": "7369e10f-6e87-490b-bc13-5cd11228c68b",
   "metadata": {},
   "outputs": [],
   "source": [
    "car1=Car()"
   ]
  },
  {
   "cell_type": "code",
   "execution_count": 3,
   "id": "2ef6e249-789a-48da-af39-a110a74b575f",
   "metadata": {},
   "outputs": [
    {
     "data": {
      "text/plain": [
       "<__main__.Car at 0x1c7104aec00>"
      ]
     },
     "execution_count": 3,
     "metadata": {},
     "output_type": "execute_result"
    }
   ],
   "source": [
    "car1"
   ]
  },
  {
   "cell_type": "code",
   "execution_count": 4,
   "id": "fd1bb1a1-1956-4315-83e3-be7bb889e606",
   "metadata": {},
   "outputs": [],
   "source": [
    "car1.windows=5\n",
    "car1.door=4"
   ]
  },
  {
   "cell_type": "code",
   "execution_count": 5,
   "id": "88897315-d817-4588-b642-686841f8cdea",
   "metadata": {},
   "outputs": [
    {
     "name": "stdout",
     "output_type": "stream",
     "text": [
      "5\n"
     ]
    }
   ],
   "source": [
    "print(car1.windows)"
   ]
  },
  {
   "cell_type": "code",
   "execution_count": 9,
   "id": "235867d0-9188-4c06-bd6c-ccdca2453209",
   "metadata": {},
   "outputs": [],
   "source": [
    "car2=Car()\n",
    "car2.windows=3\n",
    "car2.doors=2"
   ]
  },
  {
   "cell_type": "code",
   "execution_count": 12,
   "id": "7268fe85-efc8-4adb-8d6c-0d976a3d5b6e",
   "metadata": {},
   "outputs": [
    {
     "name": "stdout",
     "output_type": "stream",
     "text": [
      "2\n"
     ]
    }
   ],
   "source": [
    "print(car2.doors)"
   ]
  },
  {
   "cell_type": "code",
   "execution_count": 21,
   "id": "b3311dcb-c8fc-44c2-b3d8-e10ed4305893",
   "metadata": {},
   "outputs": [],
   "source": [
    "class Car1:\n",
    "        def __init__(self,window,door,enginetype):\n",
    "            self.windows=window\n",
    "            self.doors=door\n",
    "            self.enginetype=enginetype\n",
    "        def self_driving(self):\n",
    "            return \"this is  {} car\".format(self.enginetype)"
   ]
  },
  {
   "cell_type": "code",
   "execution_count": 22,
   "id": "f8c04345-000f-4676-b2c4-e5cd3af5d5cf",
   "metadata": {},
   "outputs": [
    {
     "name": "stdout",
     "output_type": "stream",
     "text": [
      "5\n"
     ]
    }
   ],
   "source": [
    "car3 = Car1(4,5,\"petrol\")\n",
    "print(car3.doors)"
   ]
  },
  {
   "cell_type": "code",
   "execution_count": 24,
   "id": "638f77fd-abef-4132-ab51-2bcd430fb734",
   "metadata": {},
   "outputs": [
    {
     "name": "stdout",
     "output_type": "stream",
     "text": [
      "petrol\n"
     ]
    }
   ],
   "source": [
    "print(car3.enginetype)"
   ]
  },
  {
   "cell_type": "raw",
   "id": "c151ef3d-f2bc-492e-be37-db7d7508b353",
   "metadata": {},
   "source": [
    "print(car3.self_driving())"
   ]
  },
  {
   "cell_type": "code",
   "execution_count": null,
   "id": "3d0faa45-64cb-484d-8f67-eefea85114ff",
   "metadata": {},
   "outputs": [],
   "source": []
  }
 ],
 "metadata": {
  "kernelspec": {
   "display_name": "Python 3 (ipykernel)",
   "language": "python",
   "name": "python3"
  },
  "language_info": {
   "codemirror_mode": {
    "name": "ipython",
    "version": 3
   },
   "file_extension": ".py",
   "mimetype": "text/x-python",
   "name": "python",
   "nbconvert_exporter": "python",
   "pygments_lexer": "ipython3",
   "version": "3.12.7"
  }
 },
 "nbformat": 4,
 "nbformat_minor": 5
}
