{
 "cells": [
  {
   "cell_type": "code",
   "execution_count": 5,
   "id": "89b8cd24-e24e-4500-8e66-816e1bf0a794",
   "metadata": {},
   "outputs": [],
   "source": [
    "#normal function\n",
    "def evenoddsum(lst):\n",
    "    even_Sum=0\n",
    "    odd_Sum=0\n",
    "    for i in lst:\n",
    "        if i%2==0:\n",
    "            even_Sum += i\n",
    "        else:\n",
    "            odd_Sum += i\n",
    "    return even_Sum,odd_Sum\n",
    "    "
   ]
  },
  {
   "cell_type": "code",
   "execution_count": 6,
   "id": "c0b4f87f-c8a0-4621-9b43-d8f46aaddf8a",
   "metadata": {},
   "outputs": [
    {
     "data": {
      "text/plain": [
       "(20, 16)"
      ]
     },
     "execution_count": 6,
     "metadata": {},
     "output_type": "execute_result"
    }
   ],
   "source": [
    "lst=[1,2,3,4,5,6,7,8]\n",
    "evenoddsum(lst)"
   ]
  },
  {
   "cell_type": "code",
   "execution_count": 7,
   "id": "ec9d3ef8-0c82-4aac-b287-7b5debda907a",
   "metadata": {},
   "outputs": [],
   "source": [
    " #lambda function or anonymous function\n",
    "\n",
    "addition=lambda a,b:a+b\n"
   ]
  },
  {
   "cell_type": "code",
   "execution_count": 8,
   "id": "49cb71f5-10f3-4966-8b84-67bc1342d77c",
   "metadata": {},
   "outputs": [
    {
     "data": {
      "text/plain": [
       "26"
      ]
     },
     "execution_count": 8,
     "metadata": {},
     "output_type": "execute_result"
    }
   ],
   "source": [
    "addition(12,14)"
   ]
  },
  {
   "cell_type": "code",
   "execution_count": 10,
   "id": "db806337-b467-43c4-baef-ddfdd6580a15",
   "metadata": {},
   "outputs": [
    {
     "data": {
      "text/plain": [
       "True"
      ]
     },
     "execution_count": 10,
     "metadata": {},
     "output_type": "execute_result"
    }
   ],
   "source": [
    "even=lambda a:a%2==0\n",
    "even(12)"
   ]
  },
  {
   "cell_type": "code",
   "execution_count": 11,
   "id": "f4a1599e-4869-44ec-bebf-333c4db3987d",
   "metadata": {},
   "outputs": [],
   "source": [
    "addiition = lambda a,b,c:a+b+c"
   ]
  },
  {
   "cell_type": "code",
   "execution_count": 12,
   "id": "37c4b6d6-355b-4a36-82b5-1c6a194b7737",
   "metadata": {},
   "outputs": [
    {
     "data": {
      "text/plain": [
       "6"
      ]
     },
     "execution_count": 12,
     "metadata": {},
     "output_type": "execute_result"
    }
   ],
   "source": [
    "addiition(1,2,3)"
   ]
  },
  {
   "cell_type": "code",
   "execution_count": 17,
   "id": "8dbdb970-0c10-49f9-8fab-344f36da23b7",
   "metadata": {},
   "outputs": [],
   "source": [
    "#filter functions\n",
    "def even(num):\n",
    "     if num%2==0:\n",
    "         return True"
   ]
  },
  {
   "cell_type": "code",
   "execution_count": 18,
   "id": "44f9fc64-6fe7-4ee8-b3e2-fb248f1e6fde",
   "metadata": {},
   "outputs": [],
   "source": [
    "lst=[1,2,3,4,5,6,7,8,9,0]"
   ]
  },
  {
   "cell_type": "code",
   "execution_count": 19,
   "id": "a7ebcd84-4302-4977-9465-6fa986f6b0f4",
   "metadata": {},
   "outputs": [
    {
     "data": {
      "text/plain": [
       "[2, 4, 6, 8, 0]"
      ]
     },
     "execution_count": 19,
     "metadata": {},
     "output_type": "execute_result"
    }
   ],
   "source": [
    "list(filter(even,lst))"
   ]
  },
  {
   "cell_type": "code",
   "execution_count": 20,
   "id": "f39ad53b-5d0b-44a9-a2be-e490b368f7c8",
   "metadata": {},
   "outputs": [
    {
     "data": {
      "text/plain": [
       "[2, 4, 6, 8, 0]"
      ]
     },
     "execution_count": 20,
     "metadata": {},
     "output_type": "execute_result"
    }
   ],
   "source": [
    "list(filter(lambda num:num%2==0,lst))"
   ]
  },
  {
   "cell_type": "code",
   "execution_count": 31,
   "id": "c64acc1c-f631-47c9-8050-172d424d786e",
   "metadata": {},
   "outputs": [],
   "source": [
    "#normal function\n",
    "def evenodd(num):\n",
    "    if num%2==0:\n",
    "         return \"even\"\n",
    "    else:\n",
    "         return \"odd\"\n",
    "    \n",
    "    "
   ]
  },
  {
   "cell_type": "code",
   "execution_count": 32,
   "id": "f86286a8-c3f6-4bd3-9ff8-94c0babcaa48",
   "metadata": {},
   "outputs": [
    {
     "data": {
      "text/plain": [
       "['odd', 'even', 'odd', 'even', 'odd', 'even', 'odd', 'even']"
      ]
     },
     "execution_count": 32,
     "metadata": {},
     "output_type": "execute_result"
    }
   ],
   "source": [
    "#map functionn accessing normal functiojn\n",
    "lsst=[1,2,3,4,5,6,7,8]\n",
    "list(map(evenodd,lsst))"
   ]
  },
  {
   "cell_type": "code",
   "execution_count": 33,
   "id": "26dd9a8d-4633-4db8-8479-8883161aef5f",
   "metadata": {},
   "outputs": [],
   "source": [
    "lst1=[]\n",
    "def lst_square(lst):\n",
    "    for i in lst:\n",
    "        lst1.append(i*i)\n",
    "    return lst1\n",
    "    "
   ]
  },
  {
   "cell_type": "code",
   "execution_count": 34,
   "id": "03058981-e0df-4074-b29f-332a323471cd",
   "metadata": {},
   "outputs": [
    {
     "data": {
      "text/plain": [
       "[1, 4, 9, 16, 25, 36, 49]"
      ]
     },
     "execution_count": 34,
     "metadata": {},
     "output_type": "execute_result"
    }
   ],
   "source": [
    "lst_square([1,2,3,4,5,6,7])"
   ]
  },
  {
   "cell_type": "code",
   "execution_count": 39,
   "id": "5fa73d93-3a7c-466f-97d4-cfce1612249d",
   "metadata": {},
   "outputs": [],
   "source": [
    "#list comprehension\n",
    "lst=[1,2,3,4,5,6,7,8]"
   ]
  },
  {
   "cell_type": "code",
   "execution_count": 50,
   "id": "acb9fc8d-5d2f-4d85-91ac-43a65eef1456",
   "metadata": {},
   "outputs": [],
   "source": [
    "lst1=[i*i for i in lst]"
   ]
  },
  {
   "cell_type": "code",
   "execution_count": 51,
   "id": "fa7c3e02-4647-4b61-abda-8edbdec94691",
   "metadata": {},
   "outputs": [
    {
     "name": "stdout",
     "output_type": "stream",
     "text": [
      "[1, 4, 9, 16, 25, 36, 49, 64]\n"
     ]
    }
   ],
   "source": [
    "print(lst1)"
   ]
  },
  {
   "cell_type": "code",
   "execution_count": 54,
   "id": "0290a29b-c775-46ab-88b9-679a5888cc55",
   "metadata": {},
   "outputs": [],
   "source": [
    "lst1=[i*i for i in lst if i%2!=0]"
   ]
  },
  {
   "cell_type": "code",
   "execution_count": 55,
   "id": "15128e95-010d-43b4-b8f6-46c96b803362",
   "metadata": {},
   "outputs": [
    {
     "name": "stdout",
     "output_type": "stream",
     "text": [
      "[1, 9, 25, 49]\n"
     ]
    }
   ],
   "source": [
    "print(lst1)"
   ]
  },
  {
   "cell_type": "code",
   "execution_count": 7,
   "id": "b4c59354-b853-44b9-937d-0c72f8fd9438",
   "metadata": {},
   "outputs": [],
   "source": [
    " class Car():\n",
    "     def __init__(self,windows,doors,enginetype):\n",
    "         self.windows=windows\n",
    "         self.doors=doors\n",
    "         self.enginetype=enginetype\n",
    "     def drive(self):\n",
    "            print(\"the person drives the car\")\n",
    "            "
   ]
  },
  {
   "cell_type": "code",
   "execution_count": 12,
   "id": "6ee24120-c80b-4e05-af0f-1d02d0fb18e7",
   "metadata": {},
   "outputs": [],
   "source": [
    "car=Car(4,5,\"diesel\")"
   ]
  },
  {
   "cell_type": "raw",
   "id": "b7a1e7f0-ef11-4940-8ea7-7e5504a1c266",
   "metadata": {},
   "source": [
    "car.drive()"
   ]
  },
  {
   "cell_type": "code",
   "execution_count": 13,
   "id": "ef52c119-7f2e-49aa-9ada-9681421a1e18",
   "metadata": {},
   "outputs": [],
   "source": [
    "class audi(Car):\n",
    "    def __init__(self,windows,doors,enginetype,enableai):\n",
    "        super().__init(windows,doors,enginetype)\n",
    "        self.enableai=enableai\n",
    "        def selfdriving(self):\n",
    "            print(\"Audi supports Self Driving\")\n",
    "            "
   ]
  },
  {
   "cell_type": "code",
   "execution_count": null,
   "id": "f0c5147f-bae3-456b-a5aa-b086a9e75916",
   "metadata": {},
   "outputs": [],
   "source": [
    "audi "
   ]
  },
  {
   "cell_type": "code",
   "execution_count": null,
   "id": "b418e510-e09b-484e-b374-a8d2b931e457",
   "metadata": {},
   "outputs": [],
   "source": []
  },
  {
   "cell_type": "code",
   "execution_count": null,
   "id": "b35769a7-a712-465b-915a-bfbb860d4239",
   "metadata": {},
   "outputs": [],
   "source": []
  },
  {
   "cell_type": "code",
   "execution_count": null,
   "id": "c93258d7-a52e-4fbf-93d8-d7319a37f480",
   "metadata": {},
   "outputs": [],
   "source": []
  },
  {
   "cell_type": "code",
   "execution_count": null,
   "id": "db92125e-9998-47c6-96ab-49078f95a242",
   "metadata": {},
   "outputs": [],
   "source": []
  }
 ],
 "metadata": {
  "kernelspec": {
   "display_name": "Python 3 (ipykernel)",
   "language": "python",
   "name": "python3"
  },
  "language_info": {
   "codemirror_mode": {
    "name": "ipython",
    "version": 3
   },
   "file_extension": ".py",
   "mimetype": "text/x-python",
   "name": "python",
   "nbconvert_exporter": "python",
   "pygments_lexer": "ipython3",
   "version": "3.12.7"
  }
 },
 "nbformat": 4,
 "nbformat_minor": 5
}
